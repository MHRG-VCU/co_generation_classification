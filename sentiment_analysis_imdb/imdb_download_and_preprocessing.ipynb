{
 "cells": [
  {
   "cell_type": "markdown",
   "metadata": {},
   "source": [
    "# Word preprocessing for sentiment analysis"
   ]
  },
  {
   "cell_type": "code",
   "execution_count": 1,
   "metadata": {
    "collapsed": true
   },
   "outputs": [],
   "source": [
    "#************************************************************************\n",
    "#      __   __  _    _  _____   _____\n",
    "#     /  | /  || |  | ||     \\ /  ___|\n",
    "#    /   |/   || |__| ||    _||  |  _\n",
    "#   / /|   /| ||  __  || |\\ \\ |  |_| |\n",
    "#  /_/ |_ / |_||_|  |_||_| \\_\\|______|\n",
    "#    \n",
    "# \n",
    "#   Written by < Daniel L. Marino (marinodl@vcu.edu) > (2016)\n",
    "#\n",
    "#   Copyright (2016) Modern Heuristics Research Group (MHRG)\n",
    "#   Virginia Commonwealth University (VCU), Richmond, VA\n",
    "#   http://www.people.vcu.edu/~mmanic/\n",
    "#   \n",
    "#   This program is free software: you can redistribute it and/or modify\n",
    "#   it under the terms of the GNU General Public License as published by\n",
    "#   the Free Software Foundation, either version 3 of the License, or\n",
    "#   (at your option) any later version.\n",
    "#\n",
    "#   This program is distributed in the hope that it will be useful,\n",
    "#   but WITHOUT ANY WARRANTY; without even the implied warranty of\n",
    "#   MERCHANTABILITY or FITNESS FOR A PARTICULAR PURPOSE.  See the\n",
    "#   GNU General Public License for more details.\n",
    "#  \n",
    "#   Any opinions, findings, and conclusions or recommendations expressed \n",
    "#   in this material are those of the author's(s') and do not necessarily \n",
    "#   reflect the views of any other entity.\n",
    "#  \n",
    "#   ***********************************************************************\n",
    "#\n",
    "#   Description: downloading and formating of the large movie review dataset\n",
    "#\n",
    "#   ***********************************************************************"
   ]
  },
  {
   "cell_type": "code",
   "execution_count": 2,
   "metadata": {
    "collapsed": false
   },
   "outputs": [
    {
     "name": "stdout",
     "output_type": "stream",
     "text": [
      "Successfully downloaded aclImdb_v1.tar.gz 84125825 bytes.\n",
      "Decompressing data file...\n",
      "Reading training text files...\n",
      "Reading testing text files...\n",
      "Parsing text files...\n",
      "Applying custom preprocessing...\n",
      "Building vocabulary...\n",
      "Size of string to build the dictionary: 32376725\n",
      "Encoding texts...\n",
      "Creating datasets...\n"
     ]
    }
   ],
   "source": [
    "from vocabulary_coding_simple import *\n",
    "from twodlearn.tf_lib.datasets import LargeMovieReview\n",
    "import pickle\n",
    "import re\n",
    "\n",
    "\n",
    "def preprocessing(text_in):\n",
    "    text_in = re.sub('[^A-Za-z ]+', ' ', text_in) # replaces anything that is not a character with spaces\n",
    "    text_in = text_in.lower()\n",
    "    \n",
    "    return text_in\n",
    "\n",
    "\n",
    "imdb, vc = LargeMovieReview.read_data_sets(\"imdb_data/\", \n",
    "                                           batch_size= 64, \n",
    "                                           num_unrollings= 64, \n",
    "                                           validation_p= 0.1,\n",
    "                                           custom_preproc= preprocessing,\n",
    "                                           vc_size= 4000,\n",
    "                                           shuffle= False\n",
    "                                          ) \n"
   ]
  },
  {
   "cell_type": "code",
   "execution_count": 3,
   "metadata": {
    "collapsed": false
   },
   "outputs": [
    {
     "name": "stdout",
     "output_type": "stream",
     "text": [
      "2\n",
      "65\n",
      "(64, 1)\n",
      "(64, 4001)\n",
      "have sex in a public squar thi movi is complet crap avoid thi wast of celluloid at all cost it is rambl and incoher i pride myself on the depth of s cinema from everyth from to i like be shock but i need a coher stori howev if watch hors mate get you off thi film is for you the part wa that lame \n",
      "[ 0.]\n",
      "with a a but wa taken down with a nasti to the gut the recov and hit a to but couldn t put y j away launch into the but the move nail a and then connect on the but did not go for the cover he to hi feet so he could put on the wall of had other idea revers the move into \n",
      "[ 1.]\n"
     ]
    }
   ],
   "source": [
    "print(imdb.train._n_classes)\n",
    "\n",
    "x, y = imdb.train.next_batch()\n",
    "print(len(x))\n",
    "print(y.shape)\n",
    "print(x[0].shape)\n",
    "\n",
    "print(vc.keys2text([np.argmax(x[i][0,:], 0) for i in range(len(x))]))\n",
    "print(y[0])\n",
    "\n",
    "print(vc.keys2text([np.argmax(x[i][32,:], 0) for i in range(len(x))]))\n",
    "print(y[32])"
   ]
  },
  {
   "cell_type": "code",
   "execution_count": 4,
   "metadata": {
    "collapsed": false
   },
   "outputs": [
    {
     "name": "stdout",
     "output_type": "stream",
     "text": [
      "['N/A', '', 'the', 'and', 'a', 'of', 'to', 'is', 'it', 'in', 'i', 'thi', 'that', 's', 'movi', 'wa', 'film', 'as', 'for', 'with', 'but', 't', 'you', 'on', 'be', 'not', 'have', 'he', 'are', 'hi', 'one', 'all', 'at', 'they', 'like', 'by', 'an', 'who', 'so', 'from', 'there', 'her', 'or', 'just', 'about', 'out', 'ha', 'if', 'what', 'time', 'some', 'good', 'make', 'can', 'more', 'she', 'when', 'charact', 'get', 'see', 'veri', 'watch', 'up', 'stori', 'even', 'no', 'my', 'would', 'which', 'onli', 'realli', 'their', 'had', 'well', 'we', 'do', 'me', 'were', 'other', 'scene', 'look', 'than', 'show', 'much', 'end', 'will', 'peopl', 'bad', 'go', 'been', 'great', 'also', 'into', 'first', 'becaus', 'love', 'think', 'how', 'him', 'don', 'way', 'act', 'most', 'play', 'made', 'thing', 'then', 'them', 'could', 'too', 'ani', 'after', 'know', 'say', 'seem', 'work', 'plot', 'two', 'year', 'actor', 'come', 'mani', 'seen', 'take', 'life', 'want', 'never', 'littl', 'best', 'where', 'over', 'tri', 'did', 'off', 'man', 'ever', 'doe', 'give', 'here', 'better', 'your', 'still', 'perform', 'find', 'these', 'whi', 'while', 'feel', 'part', 've', 'such', 'back', 'use', 'someth', 'm', 'director', 'actual', 'should', 'through', 'interest', 'lot', 'real', 'those', 'now', 're', 'old', 'cast', 'though', 'doesn', 'live', 'star', 'enjoy', 'guy', 'didn', 'anoth', 'befor', 'new', 'role', 'noth', 'funni', 'music', 'point', 'start', 'set', 'few', 'girl', 'same', 'origin', 'day', 'again', 'world', 'everi', 'believ', 'turn', 'quit', 'down', 'us', 'direct', 'thought', 'fact', 'minut', 'horror', 'kill', 'action', 'comedi', 'pretti', 'young', 'wonder', 'happen', 'around', 'got', 'effect', 'right', 'long', 'howev', 'own', 'big', 'line', 'famili', 'enough', 'seri', 'both', 'may', 'between', 'need', 'fan', 'd', 'bit', 'script', 'beauti', 'person', 'becom', 'without', 'must', 'alway', 'friend', 'tell', 'reason', 'isn', 'saw', 'last', 'final', 'kid', 'almost', 'put', 'least', 'sure', 'done', 'whole', 'place', 'complet', 'differ', 'kind', 'expect', 'shot', 'far', 'mean', 'anyth', 'book', 'laugh', 'might', 'name', 'begin', 'sinc', 'll', 'probabl', 'woman', 'help', 'entertain', 'let', 'am', 'screen', 'call', 'tv', 'moment', 'away', 'read', 'yet', 'rather', 'worst', 'run', 'fun', 'lead', 'hard', 'audienc', 'idea', 'anyon', 'episod', 'american', 'found', 'each', 'appear', 'bore', 'especi', 'although', 'our', 'hope', 'cours', 'keep', 'anim', 'job', 'goe', 'move', 'sens', 'version', 'dvd', 'war', 'money', 'someon', 'mind', 'mayb', 'problem', 'true', 'hous', 'onc', 'everyth', 'wasn', 'nice', 'second', 'rate', 'three', 'night', 'follow', 'face', 'recommend', 'main', 'product', 'worth', 'leav', 'human', 'special', 'excel', 'togeth', 'sound', 'wast', 'everyon', 'john', 'hand', 'father', 'later', 'eye', 'said', 'view', 'instead', 'review', 'boy', 'high', 'hour', 'miss', 'himself', 'talk', 'classic', 'wife', 'understand', 'dure', 'left', 'care', 'black', 'death', 'murder', 'open', 'write', 'half', 'head', 'rememb', 'chang', 'viewer', 'fight', 'gener', 'short', 'surpris', 'includ', 'die', 'fall', 'less', 'els', 'entir', 'piec', 'involv', 'pictur', 'simpli', 'top', 'home', 'power', 'total', 'usual', 'budget', 'attempt', 'suppos', 'releas', 'hollywood', 'terribl', 'song', 'men', 'possibl', 'featur', 'portray', 'poor', 'disappoint', 'coupl', 'stupid', 'camera', 'dead', 'wrong', 'produc', 'low', 'video', 'either', 'aw', 'definit', 'except', 'rest', 'given', 'absolut', 'women', 'lack', 'word', 'writer', 'titl', 'talent', 'decid', 'until', 'full', 'perfect', 'along', 'style', 'truli', 'close', 'school', 'emot', 'save', 'age', 'sex', 'next', 'bring', 'mr', 'case', 'killer', 'heart', 'comment', 'sort', 'creat', 'won', 'perhap', 'came', 'brother', 'sever', 'joke', 'art', 'dialogu', 'game', 'small', 'base', 'flick', 'written', 'meet', 'sequenc', 'earli', 'often', 'mother', 'develop', 'humor', 'actress', 'consid', 'dark', 'guess', 'amaz', 'unfortun', 'itself', 'lost', 'light', 'exampl', 'cinema', 'drama', 'ye', 'white', 'experi', 'imagin', 'mention', 'stop', 'natur', 'forc', 'manag', 'felt', 'present', 'cut', 'children', 'qualiti', 'fail', 'son', 'support', 'car', 'ask', 'couldn', 'hit', 'side', 'voic', 'against', 'extrem', 'impress', 'wors', 'evil', 'stand', 'certainli', 'went', 'oh', 'basic', 'overal', 'favorit', 'horribl', 'mysteri', 'number', 'type', 'danc', 'wait', 'hero', 'alreadi', 'learn', 'matter', 'michael', 'under', 'genr', 'fine', 'despit', 'throughout', 'walk', 'success', 'histori', 'question', 'zombi', 'town', 'realiz', 'relationship', 'past', 'child', 'b', 'daughter', 'late', 'wish', 'hate', 'credit', 'event', 'theme', 'touch', 'citi', 'today', 'sometim', 'behind', 'god', 'twist', 'annoy', 'sit', 'stay', 'deal', 'abl', 'rent', 'pleas', 'edit', 'blood', 'deserv', 'anyway', 'comic', 'appar', 'soon', 'gave', 'etc', 'level', 'slow', 'chanc', 'score', 'bodi', 'brilliant', 'incred', 'figur', 'situat', 'self', 'major', 'themselv', 'stuff', 'decent', 'element', 'dream', 'return', 'obvious', 'order', 'continu', 'pace', 'ridicul', 'happi', 'add', 'highli', 'group', 'myself', 'thank', 'ladi', 'novel', 'pain', 'speak', 'career', 'shoot', 'strang', 'heard', 'sad', 'polic', 'husband', 'import', 'break', 'took', 'strong', 'cannot', 'robert', 'predict', 'violenc', 'hilari', 'recent', 'countri', 'known', 'particularli', 'pick', 'season', 'documentari', 'critic', 'jame', 'compar', 'alon', 'obviou', 'told', 'state', 'wouldn', 'visual', 'rock', 'offer', 'exist', 'theater', 'opinion', 'gore', 'crap', 'hold', 'result', 'hear', 'realiti', 'room', 'clich', 'effort', 'caus', 'thriller', 'sequel', 'explain', 'serious', 'king', 'local', 'ago', 'none', 'hell', 'allow', 'note', 'david', 'sister', 'simpl', 'femal', 'deliv', 'ok', 'convinc', 'class', 'check', 'suspens', 'win', 'buy', 'oscar', 'huge', 'valu', 'sexual', 'cool', 'similar', 'excit', 'provid', 'exactli', 'apart', 'scari', 'avoid', 'shown', 'seriou', 'yourself', 'english', 'taken', 'whose', 'cinematographi', 'shock', 'polit', 'spoiler', 'offic', 'across', 'middl', 'street', 'pass', 'messag', 'charm', 'silli', 'somewhat', 'modern', 'filmmak', 'confus', 'form', 'tale', 'singl', 'jack', 'mostli', 'william', 'attent', 'carri', 'sing', 'five', 'subject', 'richard', 'prove', 'stage', 'team', 'unlik', 'cop', 'georg', 'monster', 'televis', 'earth', 'villain', 'pay', 'cover', 'marri', 'toward', 'build', 'parent', 'pull', 'due', 'fill', 'respect', 'four', 'dialog', 'remind', 'futur', 'typic', 'weak', 'cheap', 'intellig', 'british', 'atmospher', 'o', 'fast', 'clearli', 'paul', 'dog', 'non', 'knew', 'artist', 'crime', 'easili', 'escap', 'adult', 'aren', 'doubt', 'detail', 'date', 'romant', 'member', 'fire', 'gun', 'drive', 'straight', 'beyond', 'fit', 'attack', 'imag', 'upon', 'posit', 'whether', 'fantast', 'peter', 'appreci', 'aspect', 'captur', 'ten', 'plan', 'discov', 'remain', 'near', 'period', 'realist', 'air', 'mark', 'red', 'dull', 'adapt', 'within', 'spend', 'color', 'materi', 'lose', 'chase', 'mari', 'storylin', 'forget', 'bunch', 'abov', 'lee', 'clear', 'victim', 'nearli', 'haven', 'box', 'york', 'inspir', 'herself', 'match', 'finish', 'mess', 'standard', 'easi', 'truth', 'suffer', 'busi', 'e', 'dramat', 'space', 'western', 'bill', 'list', 'battl', 'ad', 'notic', 'de', 'french', 'tom', 'larg', 'among', 'eventu', 'train', 'accept', 'spirit', 'agre', 'soundtrack', 'third', 'teenag', 'adventur', 'soldier', 'suggest', 'famou', 'sorri', 'drug', 'babi', 'normal', 'cri', 'troubl', 'ultim', 'contain', 'certain', 'cultur', 'romanc', 'rare', 'lame', 'somehow', 'disney', 'mix', 'gone', 'cartoon', 'student', 'reveal', 'suck', 'fear', 'kept', 'appeal', 'attract', 'premis', 'design', 'greatest', 'secret', 'th', 'shame', 'throw', 'scare', 'copi', 'wit', 'america', 'particular', 'admit', 'brought', 'relat', 'screenplay', 'whatev', 'pure', 'averag', 'harri', 'master', 'describ', 'treat', 'male', 'issu', 'fantasi', 'warn', 'inde', 'background', 'forward', 'project', 'free', 'memor', 'poorli', 'japanes', 'award', 'locat', 'amus', 'struggl', 'potenti', 'weird', 'magic', 'societi', 'okay', 'accent', 'doctor', 'imdb', 'water', 'hot', 'dr', 'express', 'alien', 'odd', 'crazi', 'choic', 'studio', 'fiction', 'control', 'masterpiec', 'becam', 'difficult', 'fli', 'joe', 'scream', 'costum', 'lover', 'uniqu', 'refer', 'nor', 'remak', 'vampir', 'girlfriend', 'prison', 'execut', 'wear', 'jump', 'wood', 'unless', 'cheesi', 'creepi', 'superb', 'otherwis', 'parti', 'roll', 'public', 'mad', 'ghost', 'depict', 'moral', 'badli', 'jane', 'fi', 'earlier', 'week', 'dumb', 'flaw', 'grow', 'deep', 'sci', 'maker', 'cat', 'connect', 'older', 'footag', 'bother', 'plenti', 'outsid', 'stick', 'gay', 'catch', 'co', 'plu', 'whom', 'popular', 'equal', 'social', 'disturb', 'quickli', 'c', 'perfectli', 'dress', 'era', 'mistak', 'lie', 'ride', 'previou', 'combin', 'concept', 'band', 'surviv', 'rich']\n"
     ]
    }
   ],
   "source": [
    "print([i[0] for i in vc.key_list[:1000]])"
   ]
  },
  {
   "cell_type": "code",
   "execution_count": 5,
   "metadata": {
    "collapsed": true
   },
   "outputs": [],
   "source": [
    "pickle.dump( vc, open( \"imdb_vc.pkl\", \"wb\" ) )\n",
    "pickle.dump( imdb, open( \"imdb_dataset.pkl\", \"wb\" ) )"
   ]
  },
  {
   "cell_type": "code",
   "execution_count": null,
   "metadata": {
    "collapsed": true
   },
   "outputs": [],
   "source": []
  }
 ],
 "metadata": {
  "anaconda-cloud": {},
  "kernelspec": {
   "display_name": "Python [Root]",
   "language": "python",
   "name": "Python [Root]"
  },
  "language_info": {
   "codemirror_mode": {
    "name": "ipython",
    "version": 3
   },
   "file_extension": ".py",
   "mimetype": "text/x-python",
   "name": "python",
   "nbconvert_exporter": "python",
   "pygments_lexer": "ipython3",
   "version": "3.5.2"
  }
 },
 "nbformat": 4,
 "nbformat_minor": 0
}
