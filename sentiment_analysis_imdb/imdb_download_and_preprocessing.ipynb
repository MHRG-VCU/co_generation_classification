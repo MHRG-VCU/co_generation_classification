{
 "cells": [
  {
   "cell_type": "markdown",
   "metadata": {},
   "source": [
    "# Word preprocessing for sentiment analysis\n",
    "\n",
    "Writted by: Daniel L. Marino (marinodl@vcu.edu)"
   ]
  },
  {
   "cell_type": "code",
   "execution_count": 1,
   "metadata": {
    "collapsed": false
   },
   "outputs": [
    {
     "name": "stdout",
     "output_type": "stream",
     "text": [
      "File already downloaded.\n",
      "Decompressing data file...\n",
      "Reading training text files...\n",
      "Reading testing text files...\n",
      "Parsing text files...\n",
      "Applying custom preprocessing...\n",
      "Building vocabulary...\n",
      "Encoding texts...\n",
      "Creating datasets...\n"
     ]
    }
   ],
   "source": [
    "from vocabulary_coding_simple import *\n",
    "from twodlearn.tf_lib.datasets import LargeMovieReview\n",
    "import pickle\n",
    "import re\n",
    "\n",
    "\n",
    "def preprocessing(text_in):\n",
    "    text_in = re.sub('[^A-Za-z ]+', ' ', text_in) # replaces anything that is not a character with spaces\n",
    "    text_in = text_in.lower()\n",
    "    \n",
    "    return text_in\n",
    "\n",
    "\n",
    "imdb, vc = LargeMovieReview.read_data_sets(\"imdb_data/\", \n",
    "                                           batch_size= 64, \n",
    "                                           num_unrollings= 64, \n",
    "                                           validation_p= 0.1,\n",
    "                                           custom_preproc= preprocessing,\n",
    "                                           vc_size= 4000,\n",
    "                                           shuffle= False\n",
    "                                          ) \n"
   ]
  },
  {
   "cell_type": "code",
   "execution_count": 2,
   "metadata": {
    "collapsed": false
   },
   "outputs": [
    {
     "name": "stdout",
     "output_type": "stream",
     "text": [
      "2\n",
      "65\n",
      "(64, 1)\n",
      "(64, 3001)\n",
      "head are discov in the lake steve the but not exactli sharp sheriff is on the case but onli if he s not too busi chase big citi thug travel through the area halfway through the film there suddenli is an scene about a thug rob a store and kill two peopl in the process thi moment appear to take on the complet other side \n",
      "[ 0.]\n",
      "understand whi it s brilliant it stay almost entir faith to s book without be or overli and add to it a that is pure cinemat how mani film adapt of ani author s work can claim that himself even put in a cameo appear toward the end of the film and can you ask for a better than that not onli is it a \n",
      "[ 1.]\n"
     ]
    }
   ],
   "source": [
    "print(imdb.train._n_classes)\n",
    "\n",
    "x, y = imdb.train.next_batch()\n",
    "print(len(x))\n",
    "print(y.shape)\n",
    "print(x[0].shape)\n",
    "\n",
    "print(vc.keys2text([np.argmax(x[i][0,:], 0) for i in range(len(x))]))\n",
    "print(y[0])\n",
    "\n",
    "print(vc.keys2text([np.argmax(x[i][32,:], 0) for i in range(len(x))]))\n",
    "print(y[32])"
   ]
  },
  {
   "cell_type": "code",
   "execution_count": 3,
   "metadata": {
    "collapsed": false
   },
   "outputs": [
    {
     "name": "stdout",
     "output_type": "stream",
     "text": [
      "['N/A', '', 'the', 'and', 'a', 'of', 'to', 'is', 'it', 'in', 'i', 'thi', 'that', 's', 'movi', 'film', 'wa', 'as', 'for', 'with', 'but', 't', 'you', 'on', 'be', 'not', 'have', 'he', 'hi', 'are', 'one', 'all', 'at', 'they', 'like', 'by', 'an', 'who', 'so', 'from', 'there', 'her', 'or', 'just', 'about', 'out', 'ha', 'if', 'what', 'time', 'some', 'good', 'make', 'can', 'more', 'she', 'charact', 'when', 'get', 'see', 'veri', 'watch', 'up', 'stori', 'even', 'no', 'my', 'would', 'which', 'onli', 'realli', 'their', 'had', 'well', 'we', 'do', 'me', 'were', 'other', 'scene', 'look', 'than', 'show', 'much', 'end', 'will', 'peopl', 'bad', 'go', 'been', 'great', 'also', 'into', 'first', 'becaus', 'love', 'think', 'how', 'him', 'don', 'way', 'act', 'most', 'play', 'made', 'thing', 'then', 'them', 'could', 'too', 'ani', 'after', 'know', 'say', 'seem', 'work', 'plot', 'two', 'year', 'actor', 'come', 'mani', 'seen', 'take', 'life', 'want', 'never', 'littl', 'best', 'where', 'over', 'tri', 'did', 'off', 'man', 'ever', 'doe', 'give', 'here', 'better', 'your', 'still', 'perform', 'find', 'these', 'whi', 'while', 'feel', 'part', 've', 'such', 'back', 'use', 'someth', 'm', 'director', 'actual', 'should', 'through', 'interest', 'lot', 'real', 'those', 'now', 're', 'old', 'cast', 'though', 'doesn', 'live', 'star', 'enjoy', 'guy', 'didn', 'anoth', 'befor', 'new', 'role', 'noth', 'funni', 'music', 'point', 'start', 'set', 'few', 'girl', 'same', 'origin', 'day', 'again', 'world', 'everi', 'believ', 'turn', 'quit', 'down', 'us', 'direct', 'thought', 'fact', 'minut', 'horror', 'kill', 'action', 'comedi', 'pretti', 'young', 'wonder', 'happen', 'around', 'effect', 'got', 'right', 'long', 'howev', 'own', 'big', 'line', 'famili', 'enough', 'seri', 'both', 'may', 'between', 'need', 'fan', 'd', 'bit', 'script', 'beauti', 'person', 'becom', 'without', 'must', 'alway', 'friend', 'tell', 'reason', 'isn', 'saw', 'last', 'final', 'kid', 'almost', 'put', 'least', 'sure', 'done', 'whole', 'place', 'complet', 'kind', 'differ', 'expect', 'shot', 'far', 'mean', 'anyth', 'book', 'laugh', 'might', 'name', 'sinc', 'begin', 'll', 'probabl', 'woman', 'help', 'entertain', 'let', 'am', 'screen', 'call', 'tv', 'moment', 'away', 'read', 'yet', 'rather', 'worst', 'run', 'fun', 'lead', 'hard', 'audienc', 'idea', 'anyon', 'episod', 'american', 'found', 'each', 'appear', 'bore', 'especi', 'although', 'our', 'hope', 'cours', 'keep', 'anim', 'job', 'goe', 'move', 'sens', 'dvd', 'version', 'war', 'money', 'someon', 'mind', 'mayb', 'problem', 'true', 'hous', 'onc', 'everyth', 'wasn', 'nice', 'second', 'rate', 'three', 'follow', 'night', 'face', 'recommend', 'main', 'product', 'worth', 'leav', 'human', 'special', 'excel', 'togeth', 'sound', 'wast', 'everyon', 'john', 'hand', 'father', 'eye', 'later', 'said', 'view', 'instead', 'review', 'boy', 'high', 'hour', 'himself', 'talk', 'miss', 'classic', 'wife', 'understand', 'dure', 'left', 'care', 'black', 'death', 'murder', 'open', 'write', 'half', 'head', 'rememb', 'chang', 'viewer', 'fight', 'gener', 'includ', 'surpris', 'short', 'die', 'less', 'els', 'fall', 'entir', 'piec', 'involv', 'pictur', 'simpli', 'top', 'power', 'home', 'total', 'usual', 'budget', 'attempt', 'suppos', 'releas', 'hollywood', 'terribl', 'song', 'men', 'possibl', 'featur', 'portray', 'disappoint', 'poor', 'coupl', 'stupid', 'camera', 'dead', 'wrong', 'produc', 'low', 'video', 'either', 'aw', 'definit', 'except', 'rest', 'given', 'absolut', 'women', 'lack', 'word', 'writer', 'titl', 'talent', 'decid', 'until', 'full', 'along', 'perfect', 'style', 'close', 'truli', 'save', 'school', 'emot', 'sex', 'age', 'next', 'bring', 'mr', 'case', 'killer', 'heart', 'comment', 'sort', 'creat', 'won', 'perhap', 'came', 'brother', 'sever', 'joke', 'art', 'dialogu', 'game', 'small', 'base', 'flick', 'written', 'sequenc', 'meet', 'earli', 'often', 'mother', 'develop', 'humor', 'actress', 'consid', 'dark', 'guess', 'amaz', 'unfortun', 'itself', 'lost', 'light', 'exampl', 'cinema', 'drama', 'white', 'ye', 'experi', 'imagin', 'mention', 'stop', 'natur', 'forc', 'manag', 'felt', 'present', 'cut', 'children', 'fail', 'qualiti', 'son', 'support', 'car', 'ask', 'couldn', 'hit', 'side', 'voic', 'against', 'extrem', 'impress', 'wors', 'evil', 'stand', 'certainli', 'went', 'basic', 'oh', 'overal', 'favorit', 'horribl', 'mysteri', 'number', 'type', 'danc', 'wait', 'hero', 'alreadi', 'learn', 'matter', 'under', 'michael', 'genr', 'fine', 'despit', 'throughout', 'walk', 'success', 'histori', 'question', 'zombi', 'realiz', 'relationship', 'town', 'past', 'child', 'b', 'daughter', 'late', 'wish', 'credit', 'hate', 'event', 'theme', 'touch', 'today', 'citi', 'behind', 'sometim', 'god', 'twist', 'sit', 'annoy', 'stay', 'deal', 'abl', 'rent', 'pleas', 'edit', 'blood', 'deserv', 'anyway', 'comic', 'appar', 'soon', 'gave', 'etc', 'level', 'slow', 'chanc', 'score', 'bodi', 'brilliant', 'incred', 'figur', 'situat', 'self', 'major', 'themselv', 'stuff', 'decent', 'element', 'dream', 'return', 'obvious', 'order', 'continu', 'pace', 'ridicul', 'happi', 'highli', 'myself', 'add', 'group', 'thank', 'ladi', 'novel', 'pain', 'speak', 'career', 'shoot', 'strang', 'heard', 'sad', 'husband', 'polic', 'import', 'break', 'took', 'strong', 'cannot', 'predict', 'robert', 'violenc', 'hilari', 'recent', 'countri', 'known', 'particularli', 'pick', 'season', 'documentari', 'critic', 'jame', 'compar', 'alon', 'obviou', 'told', 'state', 'wouldn', 'rock', 'exist', 'offer', 'visual', 'opinion', 'theater', 'gore', 'hold', 'crap', 'result', 'room', 'hear', 'realiti', 'clich', 'effort', 'thriller', 'caus', 'sequel', 'explain', 'serious', 'king', 'local', 'ago', 'hell', 'none', 'allow', 'note', 'sister', 'david', 'simpl', 'femal', 'deliv', 'ok', 'convinc', 'class', 'check', 'suspens', 'win', 'buy', 'oscar', 'huge', 'valu', 'sexual', 'cool', 'scari', 'excit', 'similar', 'provid', 'apart', 'exactli', 'avoid', 'shown', 'seriou', 'yourself', 'english', 'whose', 'taken', 'cinematographi', 'shock', 'polit', 'spoiler', 'offic', 'across', 'middl', 'street', 'pass', 'silli', 'messag', 'somewhat', 'modern', 'charm', 'filmmak', 'confus', 'form', 'tale', 'singl', 'jack', 'william', 'attent', 'mostli', 'carri', 'sing', 'subject', 'prove', 'richard', 'five', 'team', 'stage', 'cop', 'unlik', 'georg', 'monster', 'televis', 'earth', 'villain', 'cover', 'pay', 'toward', 'marri', 'build', 'parent', 'pull', 'fill', 'due', 'respect', 'four', 'dialog', 'remind', 'futur', 'weak', 'typic', 'cheap', 'intellig', 'o', 'british', 'atmospher', 'clearli', 'fast', 'dog', 'non', 'paul', 'artist', 'knew', 'crime', 'easili', 'escap', 'adult', 'doubt', 'aren', 'detail', 'date', 'fire', 'member', 'romant', 'drive', 'gun', 'straight', 'beyond', 'fit', 'attack', 'imag', 'upon', 'posit', 'whether', 'fantast', 'peter', 'captur', 'appreci', 'aspect', 'ten', 'plan', 'discov', 'remain', 'near', 'period', 'realist', 'air', 'mark', 'red', 'adapt', 'dull', 'within', 'spend', 'lose', 'materi', 'color', 'chase', 'mari', 'storylin', 'forget', 'bunch', 'clear', 'abov', 'lee', 'nearli', 'victim', 'haven', 'box', 'inspir', 'herself', 'york', 'match', 'mess', 'finish', 'standard', 'easi', 'truth', 'suffer', 'busi', 'e', 'bill', 'space', 'dramat', 'western', 'list', 'battl', 'ad', 'notic', 'de', 'french', 'tom', 'larg', 'among', 'eventu', 'accept', 'train', 'soundtrack', 'agre', 'spirit', 'third', 'teenag', 'adventur', 'soldier', 'sorri', 'famou', 'drug', 'babi', 'normal', 'cri', 'suggest', 'troubl', 'ultim', 'contain', 'certain', 'cultur', 'lame', 'rare', 'romanc', 'somehow', 'mix', 'gone', 'disney', 'cartoon', 'student', 'fear', 'reveal', 'suck', 'kept', 'attract', 'appeal', 'premis', 'greatest', 'th', 'design', 'secret', 'shame', 'throw', 'scare', 'copi', 'wit', 'admit', 'america', 'particular', 'relat', 'brought', 'screenplay', 'whatev', 'pure', 'averag', 'harri', 'master', 'describ', 'treat', 'male', 'issu', 'fantasi', 'warn', 'inde', 'background', 'forward', 'project', 'free', 'memor', 'japanes', 'poorli', 'award', 'potenti', 'locat', 'amus', 'struggl', 'weird', 'okay', 'magic', 'societi', 'accent', 'doctor', 'imdb', 'hot', 'water', 'express', 'dr', 'alien', 'odd', 'crazi', 'studio', 'choic', 'fiction', 'becam', 'masterpiec', 'control', 'difficult', 'fli', 'joe', 'scream', 'costum', 'lover', 'refer', 'uniqu', 'nor', 'remak', 'girlfriend', 'vampir', 'prison', 'execut', 'wear', 'jump', 'wood', 'cheesi', 'unless', 'creepi', 'superb', 'otherwis', 'parti', 'roll', 'ghost', 'mad', 'public', 'depict', 'earlier', 'jane', 'badli', 'moral', 'week', 'fi', 'dumb', 'flaw', 'grow', 'deep', 'sci', 'cat', 'maker', 'connect', 'footag', 'older', 'plenti', 'bother', 'outsid', 'stick', 'gay', 'catch', 'co', 'plu', 'whom', 'popular', 'equal', 'social', 'disturb', 'c', 'quickli', 'perfectli', 'dress', 'era', 'mistak', 'lie', 'previou', 'ride', 'combin', 'band', 'concept', 'rich', 'surviv']\n"
     ]
    }
   ],
   "source": [
    "print([i[0] for i in vc.key_list[:1000]])"
   ]
  },
  {
   "cell_type": "code",
   "execution_count": 4,
   "metadata": {
    "collapsed": true
   },
   "outputs": [],
   "source": [
    "pickle.dump( vc, open( \"imdb_vc.pkl\", \"wb\" ) )\n",
    "pickle.dump( imdb, open( \"imdb_dataset.pkl\", \"wb\" ) )"
   ]
  },
  {
   "cell_type": "code",
   "execution_count": null,
   "metadata": {
    "collapsed": true
   },
   "outputs": [],
   "source": []
  }
 ],
 "metadata": {
  "anaconda-cloud": {},
  "kernelspec": {
   "display_name": "Python [Root]",
   "language": "python",
   "name": "Python [Root]"
  },
  "language_info": {
   "codemirror_mode": {
    "name": "ipython",
    "version": 3
   },
   "file_extension": ".py",
   "mimetype": "text/x-python",
   "name": "python",
   "nbconvert_exporter": "python",
   "pygments_lexer": "ipython3",
   "version": "3.5.2"
  }
 },
 "nbformat": 4,
 "nbformat_minor": 0
}
