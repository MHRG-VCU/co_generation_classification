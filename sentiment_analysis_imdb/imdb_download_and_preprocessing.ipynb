{
 "cells": [
  {
   "cell_type": "markdown",
   "metadata": {},
   "source": [
    "# Word preprocessing for sentiment analysis"
   ]
  },
  {
   "cell_type": "code",
   "execution_count": null,
   "metadata": {
    "collapsed": true
   },
   "outputs": [],
   "source": [
    "#************************************************************************\n",
    "#      __   __  _    _  _____   _____\n",
    "#     /  | /  || |  | ||     \\ /  ___|\n",
    "#    /   |/   || |__| ||    _||  |  _\n",
    "#   / /|   /| ||  __  || |\\ \\ |  |_| |\n",
    "#  /_/ |_ / |_||_|  |_||_| \\_\\|______|\n",
    "#    \n",
    "# \n",
    "#   Written by < Daniel L. Marino (marinodl@vcu.edu) > (2016)\n",
    "#\n",
    "#   Copyright (2016) Modern Heuristics Research Group (MHRG)\n",
    "#   Virginia Commonwealth University (VCU), Richmond, VA\n",
    "#   http://www.people.vcu.edu/~mmanic/\n",
    "#   \n",
    "#   This program is free software: you can redistribute it and/or modify\n",
    "#   it under the terms of the GNU General Public License as published by\n",
    "#   the Free Software Foundation, either version 3 of the License, or\n",
    "#   (at your option) any later version.\n",
    "#\n",
    "#   This program is distributed in the hope that it will be useful,\n",
    "#   but WITHOUT ANY WARRANTY; without even the implied warranty of\n",
    "#   MERCHANTABILITY or FITNESS FOR A PARTICULAR PURPOSE.  See the\n",
    "#   GNU General Public License for more details.\n",
    "#  \n",
    "#   Any opinions, findings, and conclusions or recommendations expressed \n",
    "#   in this material are those of the author's(s') and do not necessarily \n",
    "#   reflect the views of any other entity.\n",
    "#  \n",
    "#   ***********************************************************************\n",
    "#\n",
    "#   Description: downloading and formating of the large movie review dataset\n",
    "#\n",
    "#   ***********************************************************************"
   ]
  },
  {
   "cell_type": "code",
   "execution_count": 1,
   "metadata": {
    "collapsed": false
   },
   "outputs": [
    {
     "name": "stdout",
     "output_type": "stream",
     "text": [
      "File already downloaded.\n",
      "Decompressing data file...\n",
      "Reading training text files...\n",
      "Reading testing text files...\n",
      "Parsing text files...\n",
      "Applying custom preprocessing...\n",
      "Building vocabulary...\n",
      "Encoding texts...\n",
      "Creating datasets...\n"
     ]
    }
   ],
   "source": [
    "from vocabulary_coding_simple import *\n",
    "from twodlearn.tf_lib.datasets import LargeMovieReview\n",
    "import pickle\n",
    "import re\n",
    "\n",
    "\n",
    "def preprocessing(text_in):\n",
    "    text_in = re.sub('[^A-Za-z ]+', ' ', text_in) # replaces anything that is not a character with spaces\n",
    "    text_in = text_in.lower()\n",
    "    \n",
    "    return text_in\n",
    "\n",
    "\n",
    "imdb, vc = LargeMovieReview.read_data_sets(\"imdb_data/\", \n",
    "                                           batch_size= 64, \n",
    "                                           num_unrollings= 64, \n",
    "                                           validation_p= 0.1,\n",
    "                                           custom_preproc= preprocessing,\n",
    "                                           vc_size= 4000,\n",
    "                                           shuffle= False\n",
    "                                          ) \n"
   ]
  },
  {
   "cell_type": "code",
   "execution_count": 2,
   "metadata": {
    "collapsed": false
   },
   "outputs": [
    {
     "name": "stdout",
     "output_type": "stream",
     "text": [
      "2\n",
      "65\n",
      "(64, 1)\n",
      "(64, 4001)\n",
      "the lake monster is a movi that liter must be seen to be believ but you better do so in the compani of mani friend and a pile of in order to make the a littl bit easier to ye thi is a terribl film with the screenplay imagin and numer irrelev pad that are downright embarrass but it s also charm and so put \n",
      "[ 0.]\n",
      "fade car highlight will s isol and vulner at the end of the day of the funer soon he sink into depress and becom to hi surround when everyth seem hopeless and lost at will s moment of despair becom the symbol of ruth the genuin connect will ha with hi late wife it wa through that will learn to cope with the absenc of \n",
      "[ 1.]\n"
     ]
    }
   ],
   "source": [
    "print(imdb.train._n_classes)\n",
    "\n",
    "x, y = imdb.train.next_batch()\n",
    "print(len(x))\n",
    "print(y.shape)\n",
    "print(x[0].shape)\n",
    "\n",
    "print(vc.keys2text([np.argmax(x[i][0,:], 0) for i in range(len(x))]))\n",
    "print(y[0])\n",
    "\n",
    "print(vc.keys2text([np.argmax(x[i][32,:], 0) for i in range(len(x))]))\n",
    "print(y[32])"
   ]
  },
  {
   "cell_type": "code",
   "execution_count": 3,
   "metadata": {
    "collapsed": false
   },
   "outputs": [
    {
     "name": "stdout",
     "output_type": "stream",
     "text": [
      "['N/A', '', 'the', 'and', 'a', 'of', 'to', 'is', 'it', 'in', 'i', 'thi', 'that', 's', 'movi', 'film', 'wa', 'as', 'for', 'with', 'but', 't', 'you', 'on', 'be', 'not', 'have', 'he', 'hi', 'are', 'one', 'all', 'at', 'they', 'like', 'by', 'an', 'who', 'so', 'from', 'there', 'her', 'or', 'just', 'about', 'out', 'ha', 'if', 'what', 'time', 'some', 'good', 'make', 'can', 'more', 'she', 'charact', 'when', 'get', 'see', 'veri', 'watch', 'up', 'stori', 'even', 'no', 'my', 'would', 'which', 'onli', 'realli', 'their', 'had', 'well', 'we', 'do', 'me', 'were', 'other', 'scene', 'look', 'than', 'show', 'much', 'end', 'will', 'peopl', 'bad', 'go', 'been', 'great', 'also', 'into', 'first', 'becaus', 'love', 'think', 'how', 'him', 'don', 'way', 'act', 'most', 'play', 'made', 'thing', 'then', 'them', 'could', 'too', 'ani', 'after', 'know', 'say', 'seem', 'work', 'plot', 'two', 'year', 'actor', 'come', 'mani', 'seen', 'take', 'life', 'want', 'never', 'littl', 'best', 'where', 'over', 'tri', 'did', 'off', 'man', 'ever', 'doe', 'give', 'here', 'better', 'your', 'still', 'perform', 'find', 'these', 'whi', 'while', 'feel', 'part', 've', 'such', 'back', 'use', 'someth', 'm', 'director', 'actual', 'should', 'through', 'interest', 'lot', 'real', 'those', 'now', 're', 'old', 'cast', 'though', 'doesn', 'live', 'star', 'enjoy', 'guy', 'didn', 'anoth', 'befor', 'new', 'role', 'noth', 'funni', 'music', 'point', 'start', 'set', 'few', 'girl', 'same', 'origin', 'day', 'again', 'world', 'everi', 'believ', 'turn', 'quit', 'down', 'us', 'direct', 'thought', 'fact', 'minut', 'horror', 'kill', 'action', 'comedi', 'pretti', 'young', 'wonder', 'happen', 'around', 'got', 'effect', 'right', 'long', 'howev', 'own', 'big', 'line', 'famili', 'enough', 'seri', 'both', 'may', 'between', 'need', 'fan', 'd', 'bit', 'script', 'beauti', 'person', 'becom', 'without', 'must', 'alway', 'friend', 'tell', 'reason', 'isn', 'saw', 'last', 'final', 'kid', 'almost', 'put', 'least', 'sure', 'done', 'whole', 'place', 'complet', 'kind', 'differ', 'expect', 'shot', 'far', 'mean', 'anyth', 'book', 'laugh', 'might', 'name', 'sinc', 'begin', 'll', 'probabl', 'woman', 'help', 'entertain', 'let', 'am', 'screen', 'call', 'tv', 'moment', 'away', 'read', 'yet', 'rather', 'worst', 'run', 'fun', 'lead', 'hard', 'audienc', 'idea', 'anyon', 'episod', 'american', 'found', 'each', 'appear', 'bore', 'especi', 'although', 'our', 'hope', 'cours', 'keep', 'anim', 'job', 'goe', 'move', 'sens', 'dvd', 'version', 'war', 'money', 'someon', 'mind', 'mayb', 'problem', 'true', 'hous', 'onc', 'everyth', 'wasn', 'nice', 'second', 'rate', 'three', 'follow', 'night', 'face', 'recommend', 'product', 'main', 'worth', 'leav', 'human', 'special', 'excel', 'togeth', 'sound', 'wast', 'everyon', 'john', 'hand', 'father', 'eye', 'later', 'said', 'view', 'instead', 'review', 'boy', 'high', 'hour', 'himself', 'talk', 'miss', 'classic', 'wife', 'understand', 'dure', 'left', 'care', 'black', 'death', 'open', 'murder', 'write', 'half', 'head', 'rememb', 'chang', 'viewer', 'fight', 'gener', 'includ', 'surpris', 'short', 'die', 'fall', 'els', 'less', 'entir', 'piec', 'involv', 'pictur', 'simpli', 'top', 'power', 'home', 'total', 'usual', 'budget', 'attempt', 'suppos', 'releas', 'hollywood', 'terribl', 'song', 'men', 'possibl', 'featur', 'portray', 'disappoint', 'poor', 'coupl', 'camera', 'stupid', 'dead', 'wrong', 'produc', 'low', 'video', 'either', 'aw', 'definit', 'except', 'rest', 'given', 'absolut', 'women', 'lack', 'word', 'writer', 'titl', 'talent', 'decid', 'until', 'full', 'perfect', 'along', 'style', 'close', 'truli', 'save', 'school', 'emot', 'sex', 'age', 'next', 'bring', 'mr', 'case', 'killer', 'heart', 'comment', 'sort', 'creat', 'won', 'perhap', 'came', 'brother', 'sever', 'joke', 'art', 'dialogu', 'game', 'small', 'base', 'flick', 'written', 'sequenc', 'meet', 'earli', 'often', 'mother', 'develop', 'humor', 'actress', 'consid', 'dark', 'guess', 'amaz', 'unfortun', 'itself', 'light', 'lost', 'exampl', 'cinema', 'drama', 'ye', 'white', 'imagin', 'experi', 'mention', 'stop', 'natur', 'forc', 'manag', 'felt', 'present', 'cut', 'children', 'fail', 'qualiti', 'son', 'support', 'car', 'ask', 'couldn', 'hit', 'side', 'voic', 'against', 'extrem', 'impress', 'wors', 'evil', 'stand', 'certainli', 'went', 'basic', 'oh', 'overal', 'favorit', 'horribl', 'mysteri', 'number', 'type', 'danc', 'wait', 'hero', 'alreadi', 'learn', 'matter', 'under', 'michael', 'genr', 'fine', 'despit', 'throughout', 'walk', 'success', 'histori', 'question', 'zombi', 'realiz', 'relationship', 'town', 'past', 'child', 'b', 'daughter', 'late', 'wish', 'hate', 'credit', 'event', 'theme', 'touch', 'today', 'citi', 'behind', 'sometim', 'god', 'twist', 'sit', 'annoy', 'stay', 'deal', 'abl', 'rent', 'pleas', 'edit', 'blood', 'deserv', 'anyway', 'comic', 'appar', 'soon', 'gave', 'etc', 'level', 'slow', 'chanc', 'score', 'bodi', 'brilliant', 'incred', 'figur', 'situat', 'major', 'self', 'themselv', 'stuff', 'decent', 'element', 'return', 'dream', 'obvious', 'order', 'continu', 'pace', 'ridicul', 'happi', 'myself', 'highli', 'group', 'add', 'ladi', 'thank', 'novel', 'pain', 'speak', 'career', 'shoot', 'strang', 'heard', 'sad', 'polic', 'husband', 'import', 'break', 'took', 'cannot', 'strong', 'robert', 'predict', 'violenc', 'hilari', 'recent', 'countri', 'known', 'particularli', 'pick', 'season', 'documentari', 'critic', 'jame', 'compar', 'obviou', 'alon', 'told', 'state', 'wouldn', 'rock', 'offer', 'visual', 'exist', 'opinion', 'theater', 'gore', 'crap', 'hold', 'result', 'hear', 'room', 'realiti', 'clich', 'effort', 'thriller', 'caus', 'serious', 'explain', 'sequel', 'king', 'local', 'ago', 'hell', 'none', 'note', 'allow', 'sister', 'david', 'simpl', 'femal', 'deliv', 'ok', 'convinc', 'class', 'check', 'suspens', 'win', 'buy', 'oscar', 'huge', 'valu', 'sexual', 'cool', 'scari', 'similar', 'excit', 'provid', 'apart', 'exactli', 'shown', 'avoid', 'seriou', 'yourself', 'english', 'whose', 'taken', 'cinematographi', 'shock', 'polit', 'spoiler', 'offic', 'across', 'middl', 'pass', 'street', 'messag', 'silli', 'modern', 'somewhat', 'charm', 'filmmak', 'confus', 'form', 'tale', 'singl', 'jack', 'carri', 'attent', 'william', 'mostli', 'sing', 'subject', 'prove', 'richard', 'five', 'team', 'stage', 'cop', 'unlik', 'georg', 'televis', 'monster', 'earth', 'villain', 'cover', 'pay', 'toward', 'marri', 'build', 'parent', 'pull', 'due', 'fill', 'respect', 'dialog', 'four', 'futur', 'remind', 'weak', 'typic', 'cheap', 'intellig', 'o', 'atmospher', 'british', 'fast', 'clearli', 'non', 'paul', 'dog', 'artist', 'crime', 'knew', 'easili', 'escap', 'adult', 'doubt', 'aren', 'detail', 'date', 'romant', 'fire', 'member', 'drive', 'gun', 'straight', 'fit', 'beyond', 'attack', 'imag', 'upon', 'posit', 'whether', 'fantast', 'peter', 'appreci', 'aspect', 'captur', 'plan', 'ten', 'discov', 'remain', 'near', 'period', 'air', 'realist', 'mark', 'red', 'adapt', 'dull', 'within', 'lose', 'spend', 'color', 'materi', 'chase', 'mari', 'storylin', 'forget', 'bunch', 'clear', 'abov', 'lee', 'nearli', 'victim', 'haven', 'box', 'york', 'herself', 'inspir', 'match', 'mess', 'finish', 'standard', 'easi', 'truth', 'suffer', 'busi', 'e', 'bill', 'space', 'dramat', 'western', 'list', 'battl', 'ad', 'notic', 'de', 'french', 'tom', 'larg', 'among', 'eventu', 'train', 'accept', 'agre', 'soundtrack', 'spirit', 'third', 'teenag', 'soldier', 'adventur', 'drug', 'sorri', 'famou', 'cri', 'suggest', 'normal', 'babi', 'troubl', 'ultim', 'contain', 'certain', 'cultur', 'romanc', 'rare', 'lame', 'somehow', 'mix', 'gone', 'disney', 'cartoon', 'student', 'suck', 'reveal', 'fear', 'kept', 'attract', 'appeal', 'premis', 'greatest', 'secret', 'th', 'design', 'shame', 'throw', 'scare', 'copi', 'wit', 'admit', 'america', 'relat', 'particular', 'brought', 'screenplay', 'whatev', 'pure', 'averag', 'harri', 'master', 'describ', 'male', 'treat', 'issu', 'fantasi', 'warn', 'inde', 'background', 'forward', 'project', 'free', 'japanes', 'memor', 'poorli', 'award', 'potenti', 'amus', 'locat', 'struggl', 'weird', 'okay', 'magic', 'societi', 'accent', 'imdb', 'doctor', 'water', 'hot', 'express', 'alien', 'dr', 'odd', 'crazi', 'studio', 'choic', 'fiction', 'control', 'masterpiec', 'becam', 'difficult', 'fli', 'joe', 'scream', 'costum', 'lover', 'refer', 'uniqu', 'nor', 'remak', 'girlfriend', 'vampir', 'prison', 'execut', 'wear', 'jump', 'wood', 'cheesi', 'unless', 'creepi', 'superb', 'otherwis', 'parti', 'roll', 'ghost', 'mad', 'public', 'depict', 'moral', 'badli', 'jane', 'earlier', 'fi', 'week', 'dumb', 'flaw', 'grow', 'sci', 'deep', 'cat', 'maker', 'older', 'connect', 'footag', 'plenti', 'bother', 'outsid', 'stick', 'gay', 'catch', 'co', 'plu', 'whom', 'popular', 'equal', 'social', 'disturb', 'quickli', 'c', 'perfectli', 'dress', 'era', 'mistak', 'lie', 'previou', 'ride', 'combin', 'band', 'concept', 'surviv', 'answer']\n"
     ]
    }
   ],
   "source": [
    "print([i[0] for i in vc.key_list[:1000]])"
   ]
  },
  {
   "cell_type": "code",
   "execution_count": 4,
   "metadata": {
    "collapsed": true
   },
   "outputs": [],
   "source": [
    "pickle.dump( vc, open( \"imdb_vc.pkl\", \"wb\" ) )\n",
    "pickle.dump( imdb, open( \"imdb_dataset.pkl\", \"wb\" ) )"
   ]
  },
  {
   "cell_type": "code",
   "execution_count": null,
   "metadata": {
    "collapsed": true
   },
   "outputs": [],
   "source": []
  }
 ],
 "metadata": {
  "anaconda-cloud": {},
  "kernelspec": {
   "display_name": "Python [Root]",
   "language": "python",
   "name": "Python [Root]"
  },
  "language_info": {
   "codemirror_mode": {
    "name": "ipython",
    "version": 3
   },
   "file_extension": ".py",
   "mimetype": "text/x-python",
   "name": "python",
   "nbconvert_exporter": "python",
   "pygments_lexer": "ipython3",
   "version": "3.5.2"
  }
 },
 "nbformat": 4,
 "nbformat_minor": 0
}
