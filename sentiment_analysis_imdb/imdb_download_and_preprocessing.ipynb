{
 "cells": [
  {
   "cell_type": "markdown",
   "metadata": {},
   "source": [
    "# Word preprocessing for sentiment analysis"
   ]
  },
  {
   "cell_type": "code",
   "execution_count": 1,
   "metadata": {
    "collapsed": true
   },
   "outputs": [],
   "source": [
    "#************************************************************************\n",
    "#      __   __  _    _  _____   _____\n",
    "#     /  | /  || |  | ||     \\ /  ___|\n",
    "#    /   |/   || |__| ||    _||  |  _\n",
    "#   / /|   /| ||  __  || |\\ \\ |  |_| |\n",
    "#  /_/ |_ / |_||_|  |_||_| \\_\\|______|\n",
    "#    \n",
    "# \n",
    "#   Written by < Daniel L. Marino (marinodl@vcu.edu) > (2016)\n",
    "#\n",
    "#   Copyright (2016) Modern Heuristics Research Group (MHRG)\n",
    "#   Virginia Commonwealth University (VCU), Richmond, VA\n",
    "#   http://www.people.vcu.edu/~mmanic/\n",
    "#   \n",
    "#   This program is free software: you can redistribute it and/or modify\n",
    "#   it under the terms of the GNU General Public License as published by\n",
    "#   the Free Software Foundation, either version 3 of the License, or\n",
    "#   (at your option) any later version.\n",
    "#\n",
    "#   This program is distributed in the hope that it will be useful,\n",
    "#   but WITHOUT ANY WARRANTY; without even the implied warranty of\n",
    "#   MERCHANTABILITY or FITNESS FOR A PARTICULAR PURPOSE.  See the\n",
    "#   GNU General Public License for more details.\n",
    "#  \n",
    "#   Any opinions, findings, and conclusions or recommendations expressed \n",
    "#   in this material are those of the author's(s') and do not necessarily \n",
    "#   reflect the views of any other entity.\n",
    "#  \n",
    "#   ***********************************************************************\n",
    "#\n",
    "#   Description: downloading and formating of the large movie review dataset\n",
    "#\n",
    "#   ***********************************************************************"
   ]
  },
  {
   "cell_type": "code",
   "execution_count": 2,
   "metadata": {
    "collapsed": false
   },
   "outputs": [
    {
     "name": "stdout",
     "output_type": "stream",
     "text": [
      "Successfully downloaded aclImdb_v1.tar.gz 84125825 bytes.\n",
      "Decompressing data file...\n",
      "Reading training text files...\n",
      "Reading testing text files...\n",
      "Parsing text files...\n",
      "Applying custom preprocessing...\n",
      "Building vocabulary...\n",
      "Size of string to build the dictionary: 32377684\n",
      "Encoding texts...\n",
      "Creating datasets...\n"
     ]
    }
   ],
   "source": [
    "from vocabulary_coding_simple import *\n",
    "from twodlearn.tf_lib.datasets import LargeMovieReview\n",
    "import pickle\n",
    "import re\n",
    "\n",
    "\n",
    "def preprocessing(text_in):\n",
    "    text_in = re.sub('[^A-Za-z ]+', ' ', text_in) # replaces anything that is not a character with spaces\n",
    "    text_in = text_in.lower()\n",
    "    \n",
    "    return text_in\n",
    "\n",
    "\n",
    "imdb, vc = LargeMovieReview.read_data_sets(\"imdb_data/\", \n",
    "                                           batch_size= 64, \n",
    "                                           num_unrollings= 64, \n",
    "                                           validation_p= 0.1,\n",
    "                                           custom_preproc= preprocessing,\n",
    "                                           vc_size= 4000,\n",
    "                                           shuffle= False\n",
    "                                          ) \n"
   ]
  },
  {
   "cell_type": "code",
   "execution_count": 3,
   "metadata": {
    "collapsed": false
   },
   "outputs": [
    {
     "name": "stdout",
     "output_type": "stream",
     "text": [
      "2\n",
      "65\n",
      "(64, 1)\n",
      "(64, 4001)\n",
      "of the late s when the had just finish and the profession wa still be produc there s someth lack about the race game one trailer featur a car over take anoth on a way if it d been a trailer for the you d see jack over take a car and beat a confess out of the who d done a while the profession \n",
      "[ 0.]\n",
      "it wa veri origin whoever thought up thi movi get a stand from me the act wa great luke perri did an excel job onc again i give thi movi the highest rate kenneth branagh s hamlet hit all the mark the act is magnific the cinematographi is gorgeou the oscar nomin costum and set are stun and patrick s score also oscar nomin is \n",
      "[ 1.]\n"
     ]
    }
   ],
   "source": [
    "print(imdb.train._n_classes)\n",
    "\n",
    "x, y = imdb.train.next_batch()\n",
    "print(len(x))\n",
    "print(y.shape)\n",
    "print(x[0].shape)\n",
    "\n",
    "print(vc.keys2text([np.argmax(x[i][0,:], 0) for i in range(len(x))]))\n",
    "print(y[0])\n",
    "\n",
    "print(vc.keys2text([np.argmax(x[i][32,:], 0) for i in range(len(x))]))\n",
    "print(y[32])"
   ]
  },
  {
   "cell_type": "code",
   "execution_count": 4,
   "metadata": {
    "collapsed": false
   },
   "outputs": [
    {
     "name": "stdout",
     "output_type": "stream",
     "text": [
      "['N/A', '', 'the', 'and', 'a', 'of', 'to', 'is', 'it', 'in', 'i', 'thi', 'that', 's', 'movi', 'wa', 'film', 'as', 'for', 'with', 'but', 't', 'you', 'on', 'be', 'not', 'have', 'he', 'hi', 'are', 'one', 'all', 'at', 'they', 'like', 'by', 'an', 'who', 'so', 'from', 'there', 'her', 'or', 'just', 'about', 'out', 'ha', 'if', 'what', 'time', 'some', 'good', 'make', 'can', 'more', 'she', 'charact', 'when', 'get', 'see', 'veri', 'watch', 'up', 'stori', 'even', 'no', 'my', 'would', 'which', 'onli', 'realli', 'their', 'had', 'well', 'we', 'do', 'me', 'were', 'other', 'scene', 'look', 'than', 'show', 'much', 'end', 'will', 'peopl', 'bad', 'go', 'been', 'great', 'also', 'into', 'first', 'becaus', 'love', 'think', 'how', 'him', 'don', 'way', 'act', 'most', 'play', 'made', 'thing', 'then', 'them', 'could', 'too', 'ani', 'after', 'know', 'say', 'seem', 'work', 'plot', 'two', 'year', 'actor', 'come', 'mani', 'seen', 'take', 'life', 'want', 'never', 'littl', 'best', 'where', 'over', 'tri', 'did', 'off', 'man', 'ever', 'doe', 'here', 'give', 'better', 'your', 'still', 'perform', 'find', 'these', 'whi', 'while', 'feel', 'part', 've', 'such', 'back', 'use', 'someth', 'm', 'director', 'actual', 'should', 'through', 'interest', 'lot', 'real', 'those', 'now', 're', 'old', 'cast', 'though', 'doesn', 'live', 'star', 'enjoy', 'guy', 'didn', 'anoth', 'befor', 'new', 'role', 'noth', 'funni', 'music', 'point', 'start', 'set', 'few', 'girl', 'same', 'origin', 'day', 'again', 'world', 'everi', 'believ', 'turn', 'quit', 'down', 'us', 'direct', 'thought', 'fact', 'minut', 'horror', 'kill', 'action', 'comedi', 'pretti', 'young', 'wonder', 'happen', 'around', 'got', 'effect', 'right', 'long', 'howev', 'own', 'big', 'line', 'famili', 'enough', 'seri', 'both', 'may', 'between', 'need', 'fan', 'd', 'bit', 'script', 'beauti', 'person', 'becom', 'without', 'must', 'alway', 'friend', 'tell', 'reason', 'isn', 'saw', 'last', 'final', 'kid', 'almost', 'put', 'least', 'sure', 'done', 'whole', 'place', 'complet', 'kind', 'differ', 'expect', 'shot', 'far', 'mean', 'anyth', 'book', 'laugh', 'might', 'name', 'sinc', 'begin', 'll', 'probabl', 'woman', 'help', 'entertain', 'let', 'am', 'screen', 'tv', 'call', 'moment', 'away', 'read', 'yet', 'rather', 'worst', 'run', 'fun', 'lead', 'hard', 'audienc', 'idea', 'anyon', 'episod', 'american', 'found', 'each', 'appear', 'bore', 'especi', 'although', 'our', 'hope', 'cours', 'keep', 'anim', 'job', 'goe', 'move', 'sens', 'version', 'dvd', 'war', 'money', 'someon', 'mind', 'mayb', 'problem', 'true', 'hous', 'onc', 'everyth', 'wasn', 'nice', 'second', 'rate', 'three', 'night', 'face', 'follow', 'recommend', 'product', 'main', 'worth', 'leav', 'human', 'special', 'excel', 'togeth', 'sound', 'wast', 'everyon', 'john', 'hand', 'father', 'later', 'eye', 'said', 'view', 'instead', 'review', 'boy', 'high', 'hour', 'miss', 'talk', 'himself', 'classic', 'wife', 'understand', 'dure', 'left', 'care', 'black', 'death', 'murder', 'open', 'write', 'half', 'head', 'rememb', 'chang', 'viewer', 'fight', 'gener', 'surpris', 'includ', 'short', 'die', 'less', 'fall', 'els', 'entir', 'piec', 'involv', 'pictur', 'simpli', 'top', 'home', 'power', 'total', 'usual', 'budget', 'attempt', 'suppos', 'releas', 'hollywood', 'terribl', 'song', 'men', 'possibl', 'featur', 'portray', 'disappoint', 'poor', 'coupl', 'stupid', 'camera', 'dead', 'wrong', 'produc', 'low', 'video', 'either', 'aw', 'definit', 'except', 'rest', 'given', 'absolut', 'women', 'lack', 'word', 'writer', 'titl', 'talent', 'decid', 'until', 'full', 'perfect', 'along', 'style', 'close', 'truli', 'school', 'emot', 'save', 'sex', 'age', 'next', 'bring', 'mr', 'case', 'killer', 'heart', 'comment', 'sort', 'creat', 'won', 'perhap', 'came', 'brother', 'sever', 'joke', 'art', 'dialogu', 'game', 'small', 'base', 'flick', 'written', 'meet', 'sequenc', 'earli', 'often', 'mother', 'develop', 'humor', 'actress', 'consid', 'dark', 'guess', 'amaz', 'unfortun', 'itself', 'lost', 'exampl', 'light', 'cinema', 'ye', 'drama', 'white', 'experi', 'imagin', 'mention', 'stop', 'natur', 'forc', 'manag', 'felt', 'cut', 'present', 'children', 'fail', 'qualiti', 'son', 'support', 'car', 'ask', 'couldn', 'hit', 'side', 'voic', 'against', 'extrem', 'impress', 'wors', 'evil', 'stand', 'went', 'certainli', 'basic', 'oh', 'overal', 'favorit', 'horribl', 'mysteri', 'number', 'type', 'danc', 'wait', 'hero', 'alreadi', 'learn', 'matter', 'under', 'michael', 'genr', 'fine', 'despit', 'throughout', 'walk', 'success', 'histori', 'question', 'zombi', 'town', 'relationship', 'realiz', 'past', 'child', 'b', 'daughter', 'late', 'wish', 'credit', 'hate', 'event', 'theme', 'touch', 'citi', 'today', 'sometim', 'behind', 'god', 'twist', 'annoy', 'sit', 'deal', 'stay', 'abl', 'rent', 'pleas', 'edit', 'blood', 'deserv', 'anyway', 'comic', 'appar', 'soon', 'gave', 'etc', 'level', 'slow', 'chanc', 'score', 'bodi', 'brilliant', 'incred', 'figur', 'situat', 'major', 'self', 'themselv', 'stuff', 'decent', 'element', 'dream', 'return', 'obvious', 'order', 'continu', 'pace', 'ridicul', 'happi', 'add', 'highli', 'myself', 'group', 'thank', 'ladi', 'novel', 'speak', 'pain', 'career', 'shoot', 'strang', 'heard', 'sad', 'polic', 'husband', 'import', 'break', 'took', 'cannot', 'strong', 'predict', 'robert', 'violenc', 'hilari', 'recent', 'countri', 'known', 'particularli', 'pick', 'season', 'documentari', 'critic', 'jame', 'compar', 'alon', 'obviou', 'told', 'state', 'wouldn', 'visual', 'rock', 'exist', 'offer', 'opinion', 'gore', 'theater', 'crap', 'hold', 'result', 'realiti', 'hear', 'room', 'clich', 'effort', 'thriller', 'caus', 'serious', 'explain', 'sequel', 'king', 'ago', 'local', 'none', 'hell', 'allow', 'note', 'david', 'sister', 'simpl', 'femal', 'deliv', 'ok', 'class', 'convinc', 'check', 'suspens', 'win', 'buy', 'oscar', 'huge', 'valu', 'sexual', 'cool', 'scari', 'excit', 'similar', 'exactli', 'provid', 'apart', 'avoid', 'shown', 'seriou', 'yourself', 'english', 'whose', 'taken', 'cinematographi', 'shock', 'polit', 'spoiler', 'offic', 'across', 'middl', 'street', 'pass', 'messag', 'somewhat', 'silli', 'charm', 'modern', 'filmmak', 'confus', 'form', 'tale', 'singl', 'jack', 'mostli', 'william', 'carri', 'attent', 'sing', 'subject', 'five', 'richard', 'prove', 'team', 'stage', 'unlik', 'cop', 'georg', 'televis', 'monster', 'earth', 'villain', 'cover', 'pay', 'marri', 'toward', 'build', 'parent', 'pull', 'due', 'fill', 'respect', 'four', 'dialog', 'remind', 'futur', 'typic', 'weak', 'cheap', 'o', 'intellig', 'atmospher', 'british', 'fast', 'clearli', 'dog', 'paul', 'non', 'knew', 'artist', 'crime', 'easili', 'escap', 'adult', 'doubt', 'aren', 'detail', 'date', 'fire', 'member', 'romant', 'gun', 'drive', 'straight', 'fit', 'beyond', 'attack', 'imag', 'upon', 'posit', 'whether', 'fantast', 'peter', 'appreci', 'captur', 'aspect', 'ten', 'plan', 'discov', 'remain', 'period', 'near', 'realist', 'air', 'mark', 'red', 'dull', 'adapt', 'within', 'lose', 'spend', 'color', 'materi', 'chase', 'mari', 'storylin', 'forget', 'bunch', 'clear', 'lee', 'abov', 'victim', 'nearli', 'haven', 'box', 'york', 'inspir', 'herself', 'match', 'mess', 'finish', 'standard', 'easi', 'truth', 'busi', 'suffer', 'e', 'space', 'dramat', 'bill', 'western', 'list', 'battl', 'ad', 'notic', 'de', 'french', 'tom', 'larg', 'among', 'eventu', 'train', 'accept', 'spirit', 'agre', 'soundtrack', 'third', 'teenag', 'soldier', 'adventur', 'famou', 'drug', 'sorri', 'suggest', 'normal', 'babi', 'cri', 'ultim', 'troubl', 'contain', 'certain', 'cultur', 'romanc', 'rare', 'lame', 'somehow', 'mix', 'disney', 'gone', 'cartoon', 'student', 'fear', 'reveal', 'suck', 'kept', 'attract', 'appeal', 'premis', 'secret', 'th', 'greatest', 'design', 'shame', 'throw', 'scare', 'copi', 'wit', 'relat', 'admit', 'particular', 'america', 'brought', 'screenplay', 'whatev', 'pure', 'averag', 'harri', 'master', 'describ', 'male', 'treat', 'issu', 'fantasi', 'warn', 'inde', 'background', 'forward', 'free', 'project', 'japanes', 'memor', 'poorli', 'award', 'potenti', 'locat', 'struggl', 'amus', 'weird', 'magic', 'societi', 'okay', 'imdb', 'doctor', 'accent', 'water', 'hot', 'express', 'dr', 'alien', 'odd', 'choic', 'crazi', 'studio', 'fiction', 'becam', 'masterpiec', 'control', 'difficult', 'fli', 'joe', 'scream', 'costum', 'lover', 'uniqu', 'nor', 'remak', 'refer', 'girlfriend', 'vampir', 'prison', 'execut', 'wear', 'jump', 'wood', 'unless', 'cheesi', 'creepi', 'superb', 'otherwis', 'parti', 'roll', 'ghost', 'mad', 'public', 'depict', 'badli', 'earlier', 'jane', 'moral', 'week', 'dumb', 'fi', 'flaw', 'grow', 'deep', 'cat', 'maker', 'sci', 'connect', 'footag', 'plenti', 'bother', 'older', 'outsid', 'stick', 'gay', 'catch', 'co', 'plu', 'whom', 'popular', 'equal', 'social', 'quickli', 'disturb', 'c', 'perfectli', 'era', 'dress', 'mistak', 'lie', 'ride', 'previou', 'combin', 'band', 'concept', 'answer', 'rich']\n"
     ]
    }
   ],
   "source": [
    "print([i[0] for i in vc.key_list[:1000]])"
   ]
  },
  {
   "cell_type": "code",
   "execution_count": 5,
   "metadata": {
    "collapsed": true
   },
   "outputs": [],
   "source": [
    "pickle.dump( vc, open( \"imdb_vc.pkl\", \"wb\" ) )\n",
    "pickle.dump( imdb, open( \"imdb_dataset.pkl\", \"wb\" ) )"
   ]
  },
  {
   "cell_type": "code",
   "execution_count": null,
   "metadata": {
    "collapsed": true
   },
   "outputs": [],
   "source": []
  }
 ],
 "metadata": {
  "anaconda-cloud": {},
  "kernelspec": {
   "display_name": "Python [default]",
   "language": "python",
   "name": "python3"
  },
  "language_info": {
   "codemirror_mode": {
    "name": "ipython",
    "version": 3
   },
   "file_extension": ".py",
   "mimetype": "text/x-python",
   "name": "python",
   "nbconvert_exporter": "python",
   "pygments_lexer": "ipython3",
   "version": "3.5.2"
  }
 },
 "nbformat": 4,
 "nbformat_minor": 0
}
